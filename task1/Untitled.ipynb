{
 "cells": [
  {
   "cell_type": "code",
   "execution_count": 2,
   "id": "9a20f0f2-d6b5-49a6-b5d4-422a87cc59e2",
   "metadata": {},
   "outputs": [
    {
     "name": "stdout",
     "output_type": "stream",
     "text": [
      "2023-12-06 00:27:36 WARN  NativeCodeLoader:60 - Unable to load native-hadoop library for your platform... using builtin-java classes where applicable\n"
     ]
    }
   ],
   "source": [
    "!hadoop fs -put untitled.txt /"
   ]
  },
  {
   "cell_type": "code",
   "execution_count": 3,
   "id": "ecc28c05-b4e7-41b5-9874-dadaf56fd32d",
   "metadata": {},
   "outputs": [
    {
     "name": "stdout",
     "output_type": "stream",
     "text": [
      "2023-12-06 00:27:56 WARN  NativeCodeLoader:60 - Unable to load native-hadoop library for your platform... using builtin-java classes where applicable\n",
      "Found 2 items\n",
      "drwx-wx-wx   - root supergroup          0 2023-12-06 00:16 /tmp\n",
      "-rw-r--r--   3 root supergroup         94 2023-12-06 00:27 /untitled.txt\n"
     ]
    }
   ],
   "source": [
    "!hadoop fs -ls /"
   ]
  },
  {
   "cell_type": "code",
   "execution_count": 4,
   "id": "9a704dfd-2396-44ad-b029-222df062b86f",
   "metadata": {},
   "outputs": [
    {
     "name": "stdout",
     "output_type": "stream",
     "text": [
      "2023-12-06 00:28:40 WARN  NativeCodeLoader:60 - Unable to load native-hadoop library for your platform... using builtin-java classes where applicable\n",
      "я потратил на то, чтобы сделать это задание 4 часа ...."
     ]
    }
   ],
   "source": [
    "!hadoop fs -cat /untitled.txt"
   ]
  },
  {
   "cell_type": "code",
   "execution_count": 5,
   "id": "b0ba746c-9329-4f6f-a51b-833411066f09",
   "metadata": {},
   "outputs": [
    {
     "name": "stdout",
     "output_type": "stream",
     "text": [
      "Number of Maps  = 15\n",
      "Samples per Map = 1800\n",
      "2023-12-06 00:29:01 WARN  NativeCodeLoader:60 - Unable to load native-hadoop library for your platform... using builtin-java classes where applicable\n",
      "Wrote input for Map #0\n",
      "Wrote input for Map #1\n",
      "Wrote input for Map #2\n",
      "Wrote input for Map #3\n",
      "Wrote input for Map #4\n",
      "Wrote input for Map #5\n",
      "Wrote input for Map #6\n",
      "Wrote input for Map #7\n",
      "Wrote input for Map #8\n",
      "Wrote input for Map #9\n",
      "Wrote input for Map #10\n",
      "Wrote input for Map #11\n",
      "Wrote input for Map #12\n",
      "Wrote input for Map #13\n",
      "Wrote input for Map #14\n",
      "Starting Job\n",
      "2023-12-06 00:29:04 INFO  DefaultNoHARMFailoverProxyProvider:64 - Connecting to ResourceManager at resourcemanager/172.24.0.5:8032\n",
      "2023-12-06 00:29:04 INFO  JobResourceUploader:907 - Disabling Erasure Coding for path: /tmp/hadoop-yarn/staging/root/.staging/job_1701811005997_0001\n",
      "2023-12-06 00:29:04 INFO  FileInputFormat:300 - Total input files to process : 15\n",
      "2023-12-06 00:29:05 INFO  JobSubmitter:202 - number of splits:15\n",
      "2023-12-06 00:29:05 INFO  JobSubmitter:298 - Submitting tokens for job: job_1701811005997_0001\n",
      "2023-12-06 00:29:05 INFO  JobSubmitter:299 - Executing with tokens: []\n",
      "2023-12-06 00:29:05 INFO  Configuration:2854 - resource-types.xml not found\n",
      "2023-12-06 00:29:05 INFO  ResourceUtils:476 - Unable to find 'resource-types.xml'.\n",
      "2023-12-06 00:29:05 INFO  YarnClientImpl:338 - Submitted application application_1701811005997_0001\n",
      "2023-12-06 00:29:05 INFO  Job:1682 - The url to track the job: http://resourcemanager:8088/proxy/application_1701811005997_0001/\n",
      "2023-12-06 00:29:05 INFO  Job:1727 - Running job: job_1701811005997_0001\n",
      "2023-12-06 00:29:10 INFO  Job:1748 - Job job_1701811005997_0001 running in uber mode : false\n",
      "2023-12-06 00:29:10 INFO  Job:1755 -  map 0% reduce 0%\n",
      "2023-12-06 00:29:15 INFO  Job:1755 -  map 7% reduce 0%\n",
      "2023-12-06 00:29:16 INFO  Job:1755 -  map 20% reduce 0%\n",
      "2023-12-06 00:29:18 INFO  Job:1755 -  map 33% reduce 0%\n",
      "2023-12-06 00:29:19 INFO  Job:1755 -  map 40% reduce 0%\n",
      "2023-12-06 00:29:20 INFO  Job:1755 -  map 47% reduce 0%\n",
      "2023-12-06 00:29:21 INFO  Job:1755 -  map 53% reduce 0%\n",
      "2023-12-06 00:29:22 INFO  Job:1755 -  map 60% reduce 0%\n",
      "2023-12-06 00:29:23 INFO  Job:1755 -  map 67% reduce 0%\n",
      "2023-12-06 00:29:24 INFO  Job:1755 -  map 73% reduce 0%\n",
      "2023-12-06 00:29:26 INFO  Job:1755 -  map 80% reduce 0%\n",
      "2023-12-06 00:29:27 INFO  Job:1755 -  map 87% reduce 0%\n",
      "2023-12-06 00:29:29 INFO  Job:1755 -  map 93% reduce 0%\n",
      "2023-12-06 00:29:30 INFO  Job:1755 -  map 100% reduce 0%\n",
      "2023-12-06 00:29:31 INFO  Job:1755 -  map 100% reduce 100%\n",
      "2023-12-06 00:29:31 INFO  Job:1766 - Job job_1701811005997_0001 completed successfully\n",
      "2023-12-06 00:29:32 INFO  Job:1773 - Counters: 54\n",
      "\tFile System Counters\n",
      "\t\tFILE: Number of bytes read=336\n",
      "\t\tFILE: Number of bytes written=4460994\n",
      "\t\tFILE: Number of read operations=0\n",
      "\t\tFILE: Number of large read operations=0\n",
      "\t\tFILE: Number of write operations=0\n",
      "\t\tHDFS: Number of bytes read=3860\n",
      "\t\tHDFS: Number of bytes written=215\n",
      "\t\tHDFS: Number of read operations=65\n",
      "\t\tHDFS: Number of large read operations=0\n",
      "\t\tHDFS: Number of write operations=3\n",
      "\t\tHDFS: Number of bytes read erasure-coded=0\n",
      "\tJob Counters \n",
      "\t\tLaunched map tasks=15\n",
      "\t\tLaunched reduce tasks=1\n",
      "\t\tRack-local map tasks=15\n",
      "\t\tTotal time spent by all maps in occupied slots (ms)=45990\n",
      "\t\tTotal time spent by all reduces in occupied slots (ms)=14822\n",
      "\t\tTotal time spent by all map tasks (ms)=22995\n",
      "\t\tTotal time spent by all reduce tasks (ms)=7411\n",
      "\t\tTotal vcore-milliseconds taken by all map tasks=22995\n",
      "\t\tTotal vcore-milliseconds taken by all reduce tasks=7411\n",
      "\t\tTotal megabyte-milliseconds taken by all map tasks=23546880\n",
      "\t\tTotal megabyte-milliseconds taken by all reduce tasks=7588864\n",
      "\tMap-Reduce Framework\n",
      "\t\tMap input records=15\n",
      "\t\tMap output records=30\n",
      "\t\tMap output bytes=270\n",
      "\t\tMap output materialized bytes=420\n",
      "\t\tInput split bytes=2090\n",
      "\t\tCombine input records=0\n",
      "\t\tCombine output records=0\n",
      "\t\tReduce input groups=2\n",
      "\t\tReduce shuffle bytes=420\n",
      "\t\tReduce input records=30\n",
      "\t\tReduce output records=0\n",
      "\t\tSpilled Records=60\n",
      "\t\tShuffled Maps =15\n",
      "\t\tFailed Shuffles=0\n",
      "\t\tMerged Map outputs=15\n",
      "\t\tGC time elapsed (ms)=590\n",
      "\t\tCPU time spent (ms)=4190\n",
      "\t\tPhysical memory (bytes) snapshot=4247420928\n",
      "\t\tVirtual memory (bytes) snapshot=39535206400\n",
      "\t\tTotal committed heap usage (bytes)=3396861952\n",
      "\t\tPeak Map Physical memory (bytes)=300347392\n",
      "\t\tPeak Map Virtual memory (bytes)=2471849984\n",
      "\t\tPeak Reduce Physical memory (bytes)=242577408\n",
      "\t\tPeak Reduce Virtual memory (bytes)=2481561600\n",
      "\tShuffle Errors\n",
      "\t\tBAD_ID=0\n",
      "\t\tCONNECTION=0\n",
      "\t\tIO_ERROR=0\n",
      "\t\tWRONG_LENGTH=0\n",
      "\t\tWRONG_MAP=0\n",
      "\t\tWRONG_REDUCE=0\n",
      "\tFile Input Format Counters \n",
      "\t\tBytes Read=1770\n",
      "\tFile Output Format Counters \n",
      "\t\tBytes Written=97\n",
      "Job Finished in 27.75 seconds\n",
      "Estimated value of Pi is 3.14162962962962962963\n"
     ]
    }
   ],
   "source": [
    "!hadoop jar /opt/hadoop/share/hadoop/mapreduce/hadoop-mapreduce-examples-3.3.6.jar pi 15 1800"
   ]
  },
  {
   "cell_type": "code",
   "execution_count": null,
   "id": "21a0bc0f-3353-438b-a63d-48035797d41b",
   "metadata": {},
   "outputs": [],
   "source": []
  }
 ],
 "metadata": {
  "kernelspec": {
   "display_name": "Python 3 (ipykernel)",
   "language": "python",
   "name": "python3"
  },
  "language_info": {
   "codemirror_mode": {
    "name": "ipython",
    "version": 3
   },
   "file_extension": ".py",
   "mimetype": "text/x-python",
   "name": "python",
   "nbconvert_exporter": "python",
   "pygments_lexer": "ipython3",
   "version": "3.10.12"
  }
 },
 "nbformat": 4,
 "nbformat_minor": 5
}
